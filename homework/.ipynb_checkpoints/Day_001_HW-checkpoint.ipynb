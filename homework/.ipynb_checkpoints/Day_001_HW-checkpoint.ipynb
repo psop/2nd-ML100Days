{
 "cells": [
  {
   "cell_type": "markdown",
   "metadata": {},
   "source": [
    "# 作業1：\n",
    "請上 Kaggle, 在 Competitions 或 Dataset 中找一組競賽或資料並寫下："
   ]
  },
  {
   "cell_type": "markdown",
   "metadata": {},
   "source": [
    "##### 1. 你選的這組資料為何重要\n",
    "\n",
    "我選的是Kaggle上dataset中Heart Disease UCI，一來跟我過去所學相關，二來它符合課程中講到的D.對世界很有貢獻。"
   ]
  },
  {
   "cell_type": "markdown",
   "metadata": {},
   "source": [
    "##### 2. 資料從何而來 (tips: 譬如提供者是誰、以什麼方式蒐集)\n",
    "提供者為來自各地（含布達佩斯、瑞士、美國等）醫療機構醫生。原先資料集應有76種屬性，但公開的只有14種，但此Cleveland database已被機器學習家作為分析用。"
   ]
  },
  {
   "cell_type": "markdown",
   "metadata": {},
   "source": [
    "##### 3. 蒐集而來的資料型態為何\n",
    "以csv存在，各屬性有分別的意義，皆是以Numeric存在。"
   ]
  },
  {
   "cell_type": "markdown",
   "metadata": {},
   "source": [
    "##### 4. 這組資料想解決的問題如何評估\n",
    "\n",
    "可用迴歸等分類方法。"
   ]
  },
  {
   "cell_type": "markdown",
   "metadata": {},
   "source": [
    "# 作業2：\n",
    "\n",
    "想像你經營一個自由載客車隊，你希望能透過數據分析以提升業績，請你思考並描述你如何規劃整體的分析/解決方案："
   ]
  },
  {
   "cell_type": "markdown",
   "metadata": {},
   "source": [
    "##### 1. 核心問題為何 (tips：如何定義 「提升業績 & 你的假設」)\n",
    "想要提升早上及晚上尖峰時間的載客量。尖峰時間常常是用在等待，希望可以利用數據分析降低等待的時間，增加短程載客。"
   ]
  },
  {
   "cell_type": "markdown",
   "metadata": {},
   "source": [
    "##### 2. 資料從何而來 (tips：哪些資料可能會對你想問的問題產生影響 & 資料如何蒐集)\n",
    "(1)尖峰時間的叫車路線、被取消的路線\n",
    "(2)尖峰時間所在司機的地點\n",
    "(3)尖峰時間每次載客路線及金額\n",
    "(4)可能影響：增加載客量應有一定金額，否則有可能會影響到業績"
   ]
  },
  {
   "cell_type": "markdown",
   "metadata": {},
   "source": [
    "##### 3. 蒐集而來的資料型態為何\n",
    "(1)文字：經緯度\n",
    "(2)數字：金額\n",
    "(3)時間"
   ]
  },
  {
   "cell_type": "markdown",
   "metadata": {},
   "source": [
    "##### 4. 你要回答的問題，其如何評估 (tips：你的假設如何驗證)\n",
    "(1)尖峰時間的載客量是否增加\n",
    "(2)找到尖峰時間短載客量的最低金額\n",
    "(3)尖峰時間載客量提升，是否營收提升"
   ]
  },
  {
   "cell_type": "markdown",
   "metadata": {},
   "source": [
    "# 作業3："
   ]
  },
  {
   "cell_type": "code",
   "execution_count": 1,
   "metadata": {
    "collapsed": true
   },
   "outputs": [],
   "source": [
    "import numpy as np\n",
    "import matplotlib.pyplot as plt"
   ]
  },
  {
   "cell_type": "code",
   "execution_count": 4,
   "metadata": {},
   "outputs": [
    {
     "data": {
      "image/png": "[encoded data removed]",
      "text/plain": [
       "<matplotlib.figure.Figure at 0x10e158ac8>"
      ]
     },
     "metadata": {},
     "output_type": "display_data"
    }
   ],
   "source": [
    "w = 3\n",
    "b = 0.5\n",
    "\n",
    "x_lin = np.linspace(0, 100, 101)\n",
    "\n",
    "y = (x_lin + np.random.randn(101) * 5) * w + b\n",
    "\n",
    "plt.plot(x_lin, y, 'b.', label = 'data points')\n",
    "plt.title(\"Assume we have data points\")\n",
    "plt.legend(loc = 2)\n",
    "plt.show()"
   ]
  },
  {
   "cell_type": "code",
   "execution_count": 5,
   "metadata": {},
   "outputs": [
    {
     "data": {
      "image/png": "[encoded data removed]",
      "text/plain": [
       "<matplotlib.figure.Figure at 0x1165d2630>"
      ]
     },
     "metadata": {},
     "output_type": "display_data"
    }
   ],
   "source": [
    "y_hat = x_lin * w + b\n",
    "plt.plot(x_lin,y,'b.',label='data')\n",
    "plt.plot(x_lin,y_hat,'r-',label='prediction')\n",
    "plt.title(\"Assume we have data points (And the prediction)\")\n",
    "plt.legend(loc = 2)\n",
    "plt.show()"
   ]
  },
  {
   "cell_type": "code",
   "execution_count": 8,
   "metadata": {},
   "outputs": [
    {
     "name": "stdout",
     "output_type": "stream",
     "text": [
      "The Mean absolute error is 13.846\n"
     ]
    }
   ],
   "source": [
    "def mean_absolute_error(y,yp):\n",
    "  \"\"\"\n",
    "  計算MAE\n",
    "  Args:\n",
    "    - y:實際值\n",
    "    - yp:預測值\n",
    "  Return:\n",
    "    - mae: MAE\n",
    "  \"\"\"\n",
    "  mae = MAE = sum(abs(y-yp)) / len(y)\n",
    "  return mae\n",
    "\n",
    "MAE = mean_absolute_error(y, y_hat)\n",
    "print(\"The Mean absolute error is %.3f\" % (MAE))"
   ]
  },
  {
   "cell_type": "markdown",
   "metadata": {},
   "source": [
    "# 練習時間\n",
    "請寫一個函式用來計算 Mean Square Error"
   ]
  },
  {
   "cell_type": "code",
   "execution_count": 12,
   "metadata": {},
   "outputs": [
    {
     "name": "stdout",
     "output_type": "stream",
     "text": [
      "The Mean square error is 283.180\n"
     ]
    }
   ],
   "source": [
    "def Mean_Square_Error(y,y_hat):\n",
    "  mse = MSE = sum((y - y_hat) ** 2) / len(y)\n",
    "  return mse\n",
    "\n",
    "MSE = Mean_Square_Error(y, y_hat)\n",
    "print(\"The Mean square error is %.3f\" % (MSE))"
   ]
  },
  {
   "cell_type": "code",
   "execution_count": null,
   "metadata": {
    "collapsed": true
   },
   "outputs": [],
   "source": []
  }
 ],
 "metadata": {
  "kernelspec": {
   "display_name": "Python 3",
   "language": "python",
   "name": "python3"
  },
  "language_info": {
   "codemirror_mode": {
    "name": "ipython",
    "version": 3
   },
   "file_extension": ".py",
   "mimetype": "text/x-python",
   "name": "python",
   "nbconvert_exporter": "python",
   "pygments_lexer": "ipython3",
   "version": "3.6.2"
  }
 },
 "nbformat": 4,
 "nbformat_minor": 2
}
